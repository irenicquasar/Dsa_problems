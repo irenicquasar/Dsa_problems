{
 "cells": [
  {
   "cell_type": "markdown",
   "metadata": {},
   "source": [
    "# 3Sum Problem \n"
   ]
  },
  {
   "cell_type": "code",
   "execution_count": null,
   "metadata": {},
   "outputs": [],
   "source": [
    "#random integer generator \n",
    "import random\n",
    "\n",
    "def generate_random_integers(count, lower_limit, upper_limit):\n",
    "    random_integers = [random.randint(lower_limit, upper_limit) for _ in range(count)]\n",
    "    return random_integers\n"
   ]
  },
  {
   "cell_type": "markdown",
   "metadata": {},
   "source": [
    "# An obvious Algo\n",
    "runs in O(n<sup>3</sup>)\n"
   ]
  },
  {
   "cell_type": "code",
   "execution_count": null,
   "metadata": {},
   "outputs": [],
   "source": [
    "arr= list(generate_random_integers(100, -500, 500))\n",
    "n =len(arr)\n",
    "for i in range(0,n-2):\n",
    "    for j in range (i+1,n-1):\n",
    "            for k in range(j+1,n):\n",
    "                  if arr[i]+arr[j]+arr[k]==0:\n",
    "                        print(i,j,k)"
   ]
  },
  {
   "cell_type": "markdown",
   "metadata": {},
   "source": [
    "# Improved 3sum\n",
    "runs in O(nlogn+n<sup>2</sup>logn) = O(n<sup>2</sup>logn)"
   ]
  },
  {
   "cell_type": "code",
   "execution_count": null,
   "metadata": {},
   "outputs": [],
   "source": [
    "def binary_search(list_, item_):\n",
    "    low = 0\n",
    "    high = len(list_)-1\n",
    "    while low <= high:\n",
    "        mid = (low + high)//2\n",
    "        guess = list_[mid]\n",
    "        if guess == item_:\n",
    "            return True\n",
    "        if guess > item_:\n",
    "            high = mid-1\n",
    "        else:\n",
    "            low = mid+1\n",
    "    return False \n",
    "def old_position(a,b,c):\n",
    "    i=arr.index(a)\n",
    "    j=arr.index(b)\n",
    "    k=arr.index(c)\n",
    "    return [arr[i],arr[j],arr[k]]\n",
    "    \n",
    "    \n",
    "arr= list(generate_random_integers(100, -500, 500)) \n",
    "new_arr=arr\n",
    "new_arr.sort()\n",
    "n= len(new_arr)\n",
    "\n",
    "for i in  range(0 ,n-2):\n",
    "    for j in range(i+1,n-1):\n",
    "        element=None\n",
    "        if binary_search(new_arr[j+1:n],-(new_arr[i]+new_arr[j])) == True:\n",
    "            element=-(new_arr[i]+new_arr[j])\n",
    "        if (element != None) : \n",
    "            print(old_position(new_arr[i],new_arr[j],element))"
   ]
  },
  {
   "cell_type": "markdown",
   "metadata": {},
   "source": [
    "# A further improvement that runs in O(n<sup>2</sup>)"
   ]
  },
  {
   "cell_type": "code",
   "execution_count": null,
   "metadata": {},
   "outputs": [],
   "source": [
    "for i in  range(0 ,n-2):\n",
    "    j=i+1\n",
    "    k=n-1\n",
    "    while j<k:\n",
    "        if new_arr[i]+new_arr[j]+new_arr[k]==0:\n",
    "            print(old_position(new_arr[i],new_arr[j],new_arr[k]))\n",
    "            j=j+1\n",
    "            k=k-1\n",
    "        elif new_arr[i]+new_arr[j]+new_arr[k]<0:\n",
    "            j=j+1\n",
    "        else:\n",
    "            k=k-1"
   ]
  }
 ],
 "metadata": {
  "kernelspec": {
   "display_name": "Python 3",
   "language": "python",
   "name": "python3"
  },
  "language_info": {
   "name": "python",
   "version": "3.10.0"
  },
  "orig_nbformat": 4
 },
 "nbformat": 4,
 "nbformat_minor": 2
}
