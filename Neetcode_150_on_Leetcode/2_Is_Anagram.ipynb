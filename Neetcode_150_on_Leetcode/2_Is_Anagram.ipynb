{
 "cells": [
  {
   "cell_type": "markdown",
   "metadata": {},
   "source": [
    "# 2.Is Anagram"
   ]
  },
  {
   "cell_type": "markdown",
   "metadata": {},
   "source": [
    "Given two strings s and t, return true if t is an anagram of s, and false otherwise.\n",
    "\n",
    "An Anagram is a word or phrase formed by rearranging the letters of a different word or phrase, typically using all the original letters exactly once.\n",
    "\n",
    " \n",
    "\n",
    "Example 1:\n",
    "\n",
    "Input: s = \"anagram\", t = \"nagaram\"\n",
    "Output: true\n",
    "Example 2:\n",
    "\n",
    "Input: s = \"rat\", t = \"car\"\n",
    "Output: false\n",
    " \n",
    "\n",
    "Constraints:\n",
    "\n",
    "1 <= s.length, t.length <= 5 * 104\n",
    "s and t consist of lowercase English letters."
   ]
  },
  {
   "cell_type": "markdown",
   "metadata": {},
   "source": [
    "### Using Hashmap\n",
    "Runtime:\n",
    "48\n",
    "ms\n",
    "Beats\n",
    "62.74%\n",
    "\n",
    "Memory:\n",
    "16.73\n",
    "MB\n",
    "Beats\n",
    "96.90%"
   ]
  },
  {
   "cell_type": "code",
   "execution_count": null,
   "metadata": {},
   "outputs": [],
   "source": [
    "class Solution:\n",
    "    def isAnagram(self, s: str, t: str) -> bool:\n",
    "        dict_1 = {}\n",
    "        for i in range(len(s)):\n",
    "            if s[i] not in dict_1:\n",
    "                dict_1[s[i]] = 1\n",
    "            else : \n",
    "                dict_1[s[i]] += 1\n",
    "        dict_2 = {}\n",
    "        for i in range(len(t)):\n",
    "            if t[i] not in dict_2:\n",
    "                dict_2[t[i]] = 1\n",
    "            else : \n",
    "                dict_2[t[i]] += 1\n",
    "        if set(dict_1.keys()) != set(dict_2.keys()):\n",
    "            return False\n",
    "        else:\n",
    "            for key_1 in dict_1:\n",
    "                for key_2 in dict_2:\n",
    "                    if (key_1 == key_2) and (dict_1[key_1] != dict_2[key_2]):\n",
    "                        return False\n",
    "            return True"
   ]
  },
  {
   "cell_type": "markdown",
   "metadata": {},
   "source": [
    "checking for length of s and t before applying hasmap\n",
    "\n",
    "Runtime:\n",
    "44\n",
    "ms\n",
    "Beats\n",
    "80.12%\n",
    "\n",
    "Memory:\n",
    "16.93\n",
    "MB\n",
    "Beats\n",
    "54.58%"
   ]
  },
  {
   "cell_type": "code",
   "execution_count": null,
   "metadata": {},
   "outputs": [],
   "source": [
    "class Solution:\n",
    "    def isAnagram(self, s: str, t: str) -> bool:\n",
    "        if len(s)!=len(t):\n",
    "            return False\n",
    "        dict_1 = {}\n",
    "        for i in range(len(s)):\n",
    "            if s[i] not in dict_1:\n",
    "                dict_1[s[i]] = 1\n",
    "            else : \n",
    "                dict_1[s[i]] += 1\n",
    "        dict_2 = {}\n",
    "        for i in range(len(t)):\n",
    "            if t[i] not in dict_2:\n",
    "                dict_2[t[i]] = 1\n",
    "            else : \n",
    "                dict_2[t[i]] += 1\n",
    "        if set(dict_1.keys()) != set(dict_2.keys()):\n",
    "            return False\n",
    "        else:\n",
    "            for key_1 in dict_1:\n",
    "                for key_2 in dict_2:\n",
    "                    if (key_1 == key_2) and (dict_1[key_1] != dict_2[key_2]):\n",
    "                        return False\n",
    "            return True"
   ]
  }
 ],
 "metadata": {
  "language_info": {
   "name": "python"
  }
 },
 "nbformat": 4,
 "nbformat_minor": 2
}
