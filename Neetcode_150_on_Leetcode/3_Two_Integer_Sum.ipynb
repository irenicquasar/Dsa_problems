{
 "cells": [
  {
   "cell_type": "markdown",
   "metadata": {},
   "source": [
    "# 3.Two Integer Sum"
   ]
  },
  {
   "cell_type": "markdown",
   "metadata": {},
   "source": [
    "### Brute Force\n",
    "Runtime:\n",
    "1663\n",
    "ms\n",
    "Beats\n",
    "28.79%\n",
    "\n",
    "Memory:\n",
    "17.12\n",
    "MB\n",
    "Beats\n",
    "99.09%\n"
   ]
  },
  {
   "cell_type": "code",
   "execution_count": null,
   "metadata": {},
   "outputs": [],
   "source": [
    "class Solution:\n",
    "    def twoSum(self, nums: List[int], target: int) -> List[int]:\n",
    "        length = len(nums)\n",
    "        for i in range(length-1):\n",
    "            for j in range(i+1,length):\n",
    "                if nums[i] + nums[j] == target:\n",
    "                    return [i,j]"
   ]
  },
  {
   "cell_type": "markdown",
   "metadata": {},
   "source": [
    "### Two Pointer Approach\n",
    "Runtime:\n",
    "65\n",
    "ms\n",
    "Beats\n",
    "46.08%\n",
    "\n",
    "Memory Usage:\n",
    "17.07\n",
    "MB\n",
    "Beats\n",
    "99.76%\n"
   ]
  },
  {
   "cell_type": "code",
   "execution_count": null,
   "metadata": {},
   "outputs": [],
   "source": [
    "class Solution:\n",
    "    def twoSum(self, nums: List[int], target: int) -> List[int]:\n",
    "        temp=nums.copy()\n",
    "        nums.sort()\n",
    "        req_index=[]\n",
    "        i=0\n",
    "        j=len(nums)-1\n",
    "        while i!=j:\n",
    "            if nums[i] + nums[j] > target:\n",
    "                j-=1\n",
    "            elif nums [i] + nums[j] < target:\n",
    "                i+=1\n",
    "            else:\n",
    "                req_index=[i,j]\n",
    "                break   \n",
    "        a=nums[i]\n",
    "        b=nums[j]\n",
    "        if a==b:\n",
    "            m=temp.index(a)\n",
    "            temp[m]='a' #random character to make sure this index isn't counted again\n",
    "            n=temp.index(b)\n",
    "            return [m,n]\n",
    "        m=temp.index(a)\n",
    "        n=temp.index(b)\n",
    "        return [m,n]"
   ]
  },
  {
   "cell_type": "markdown",
   "metadata": {},
   "source": [
    "### Using hashmaps\n",
    "Runtime:\n",
    "58\n",
    "ms\n",
    "Beats\n",
    "69.47%\n",
    "\n",
    "Memory Usage:\n",
    "17.66\n",
    "MB\n",
    "Beats\n",
    "51.78%"
   ]
  },
  {
   "cell_type": "code",
   "execution_count": null,
   "metadata": {},
   "outputs": [],
   "source": [
    "class Solution:\n",
    "    def twoSum(self, nums: List[int], target: int) -> List[int]:\n",
    "        dic = {}\n",
    "        for i in range(len(nums)):\n",
    "            if target - nums[i] in dic:\n",
    "                return [dic[target - nums[i]], i]\n",
    "            dic[nums[i]] = i\n"
   ]
  }
 ],
 "metadata": {
  "language_info": {
   "name": "python"
  }
 },
 "nbformat": 4,
 "nbformat_minor": 2
}
