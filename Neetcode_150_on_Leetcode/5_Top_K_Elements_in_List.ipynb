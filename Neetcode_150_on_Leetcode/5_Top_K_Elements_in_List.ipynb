{
 "cells": [
  {
   "cell_type": "markdown",
   "metadata": {},
   "source": [
    "# 5.Top K Elements in List"
   ]
  },
  {
   "cell_type": "markdown",
   "metadata": {},
   "source": [
    "### Using Heaps and hashmaps"
   ]
  },
  {
   "cell_type": "markdown",
   "metadata": {},
   "source": [
    "#### V.short implementation using prewritten libraries (online sol)\n",
    "Runtime:\n",
    "85\n",
    "ms\n",
    "Beats\n",
    "76.15%\n",
    "\n",
    "Memory:\n",
    "21.08\n",
    "MB\n",
    "Beats\n",
    "68.57%"
   ]
  },
  {
   "cell_type": "code",
   "execution_count": null,
   "metadata": {},
   "outputs": [],
   "source": [
    "class Solution:\n",
    "    def topKFrequent(self, nums: List[int], k: int) -> List[int]:\n",
    "        counter = Counter(nums)\n",
    "        heap = []\n",
    "        \n",
    "        for num, freq in counter.items():\n",
    "            heapq.heappush(heap, (-freq, num))\n",
    "        \n",
    "        result = []\n",
    "        for _ in range(k):\n",
    "            result.append(heapq.heappop(heap)[1])\n",
    "        \n",
    "        return result"
   ]
  },
  {
   "cell_type": "markdown",
   "metadata": {},
   "source": [
    "### Without using prewritten libraries"
   ]
  },
  {
   "cell_type": "code",
   "execution_count": null,
   "metadata": {},
   "outputs": [],
   "source": [
    "class Solution:\n",
    "    def topKFrequent(self, nums: List[int], k: int) -> List[int]:\n",
    "        freq_dict= {}\n",
    "        for i in nums:\n",
    "            if i not in freq_dict:\n",
    "                freq_dict[i] = 1\n",
    "            else:\n",
    "                freq_dict[i]+=1\n",
    "# to be completed "
   ]
  },
  {
   "cell_type": "markdown",
   "metadata": {},
   "source": [
    "### Using hashmap and sorting (built-in)\n",
    "Runtime:\n",
    "107\n",
    "ms\n",
    "Beats\n",
    "7.33%\n",
    "\n",
    "Memory:\n",
    "20.84\n",
    "MB\n",
    "Beats\n",
    "87.31%\n"
   ]
  },
  {
   "cell_type": "code",
   "execution_count": null,
   "metadata": {},
   "outputs": [],
   "source": [
    "class Solution:\n",
    "    def topKFrequent(self, nums: List[int], k: int) -> List[int]:\n",
    "        freq_dict= {}\n",
    "        for i in nums:\n",
    "            if i not in freq_dict:\n",
    "                freq_dict[i] = 1\n",
    "            else:\n",
    "                freq_dict[i]+=1\n",
    "        output = sorted(freq_dict, key=lambda m: freq_dict[m], reverse = True)\n",
    "        return output[:k]"
   ]
  }
 ],
 "metadata": {
  "language_info": {
   "name": "python"
  }
 },
 "nbformat": 4,
 "nbformat_minor": 2
}
