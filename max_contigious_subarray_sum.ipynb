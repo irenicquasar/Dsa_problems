{
 "cells": [
  {
   "cell_type": "markdown",
   "metadata": {},
   "source": [
    "# Max contigous subarray sum  "
   ]
  },
  {
   "cell_type": "markdown",
   "metadata": {},
   "source": [
    "$O(n^3)$ solution"
   ]
  },
  {
   "cell_type": "code",
   "execution_count": 8,
   "metadata": {},
   "outputs": [
    {
     "data": {
      "text/plain": [
       "6"
      ]
     },
     "execution_count": 8,
     "metadata": {},
     "output_type": "execute_result"
    }
   ],
   "source": [
    "def max_subarray_sum_v1(arr):\n",
    "    max_sum=sum(arr)\n",
    "    for i in range(len(arr)):\n",
    "        for j in range (i+1,len(arr)):\n",
    "            temp=sum(arr[i:j+1])\n",
    "            if temp > max_sum:\n",
    "                max_sum=temp\n",
    "    return max_sum\n",
    "arr=[-2,1,-3,4,-1,2,1,-5,4]\n",
    "max_subarray_sum_v1(arr)"
   ]
  },
  {
   "cell_type": "markdown",
   "metadata": {},
   "source": [
    "$O(n^2)$ solution\n"
   ]
  },
  {
   "cell_type": "code",
   "execution_count": 14,
   "metadata": {},
   "outputs": [
    {
     "data": {
      "text/plain": [
       "6"
      ]
     },
     "execution_count": 14,
     "metadata": {},
     "output_type": "execute_result"
    }
   ],
   "source": [
    "def max_subarray_sum_v2(arr):\n",
    "    max_sum=sum(arr)\n",
    "    for i in range(len(arr)):\n",
    "        temp=arr[i]\n",
    "        if temp > max_sum:\n",
    "            max_sum=temp\n",
    "        for j in range(i+1,len(arr)):\n",
    "            temp+=arr[j]\n",
    "            if temp > max_sum:\n",
    "                max_sum = temp\n",
    "    return max_sum\n",
    "arr=[-2,1,-3,4,-1,2,1,-5,4]\n",
    "max_subarray_sum_v2(arr)"
   ]
  },
  {
   "cell_type": "markdown",
   "metadata": {},
   "source": [
    "$O(n)$ solution"
   ]
  },
  {
   "cell_type": "code",
   "execution_count": 24,
   "metadata": {},
   "outputs": [
    {
     "data": {
      "text/plain": [
       "6"
      ]
     },
     "execution_count": 24,
     "metadata": {},
     "output_type": "execute_result"
    }
   ],
   "source": [
    "def max_subarray_sum_v3(arr):\n",
    "    max_sum=arr[0]\n",
    "    place_holder_arr=[]\n",
    "    #let us append the base case value\n",
    "    place_holder_arr.append(arr[0])\n",
    "    for i in range(1,len(arr)):\n",
    "        if place_holder_arr[i-1]+arr[i]>arr[i]:\n",
    "            place_holder_arr.append(place_holder_arr[i-1]+arr[i])\n",
    "        else:\n",
    "            place_holder_arr.append(arr[i])\n",
    "        if place_holder_arr[i]>max_sum:\n",
    "            max_sum=place_holder_arr[i]\n",
    "    return max_sum\n",
    "arr=[-2,1,-3,4,-1,2,1,-5,4]\n",
    "max_subarray_sum_v3(arr)\n"
   ]
  }
 ],
 "metadata": {
  "kernelspec": {
   "display_name": "Python 3",
   "language": "python",
   "name": "python3"
  },
  "language_info": {
   "codemirror_mode": {
    "name": "ipython",
    "version": 3
   },
   "file_extension": ".py",
   "mimetype": "text/x-python",
   "name": "python",
   "nbconvert_exporter": "python",
   "pygments_lexer": "ipython3",
   "version": "3.10.0"
  }
 },
 "nbformat": 4,
 "nbformat_minor": 2
}
